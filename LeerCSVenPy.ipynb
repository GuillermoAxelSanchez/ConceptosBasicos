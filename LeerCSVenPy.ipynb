{
  "nbformat": 4,
  "nbformat_minor": 0,
  "metadata": {
    "colab": {
      "name": "LeerCSVenPy.ipynb",
      "provenance": [],
      "include_colab_link": true
    },
    "kernelspec": {
      "name": "python3",
      "display_name": "Python 3"
    },
    "language_info": {
      "name": "python"
    }
  },
  "cells": [
    {
      "cell_type": "markdown",
      "metadata": {
        "id": "view-in-github",
        "colab_type": "text"
      },
      "source": [
        "<a href=\"https://colab.research.google.com/github/GuillermoAxelSanchez/ConceptosBasicos/blob/EstructuraDeDatos2022/LeerCSVenPy.ipynb\" target=\"_parent\"><img src=\"https://colab.research.google.com/assets/colab-badge.svg\" alt=\"Open In Colab\"/></a>"
      ]
    },
    {
      "cell_type": "code",
      "metadata": {
        "colab": {
          "base_uri": "https://localhost:8080/",
          "resources": {
            "http://localhost:8080/nbextensions/google.colab/files.js": {
              "data": "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",
              "ok": true,
              "headers": [
                [
                  "content-type",
                  "application/javascript"
                ]
              ],
              "status": 200,
              "status_text": ""
            }
          },
          "height": 1000
        },
        "id": "61j8iBV8sEO-",
        "outputId": "b8506f8b-02d3-40f9-8cff-aeab751664dc"
      },
      "source": [
        "import pandas as pan\n",
        "import numpy as np\n",
        "\n",
        "from google.colab import files\n",
        "uploaded = files.upload()\n",
        "print(datos)\n",
        "\n",
        "datos = pan.read_csv('presenciaredes.csv', header=0)\n",
        "followersJunio=int(datos.iloc[7][8].replace(\",\",\"\"))\n",
        "followersEnero=int(datos.iloc[7][3].replace(\",\",\"\"))\n",
        "\n",
        "print(f\"\\n-------------------El cambio en los followers de Twiter de Enero a Junio fue +{followersJunio-followersEnero}------------\\n\")\n",
        "\n",
        "print(\"\\n--------------------Elija los meses para calcular la diferencia de visualizaciones de Youtube------------------------------\\n \")\n",
        "mes1=input(\"\\nESCRIBE EL PRIMER MES CON LETRA, elija: : enero, febrero, marzo, abril, mayo, junio:   ---> \")\n",
        "reserva1=mes1\n",
        "mes2=input(\"ESCRIBE EL SEGUNDO MES CON LETRA, elija: : enero, febrero, marzo, abril, mayo, junio:    ---> \")\n",
        "reserva2=mes2\n",
        "enero=int(datos.iloc[15][3].replace(\",\",\"\"))\n",
        "febrero=int(datos.iloc[15][4].replace(\",\",\"\"))\n",
        "marzo=int(datos.iloc[15][5].replace(\",\",\"\"))\n",
        "abril=int(datos.iloc[15][6].replace(\",\",\"\"))\n",
        "mayo=int(datos.iloc[15][7].replace(\",\",\"\"))\n",
        "junio=int(datos.iloc[15][8].replace(\",\",\"\"))\n",
        "\n",
        "if (mes1==\"enero\"):\n",
        "  mes1=enero\n",
        "if (mes1==\"febrero\"):\n",
        "  mes1=febrero\n",
        "if (mes1==\"marzo\"):\n",
        "  mes1=marzo\n",
        "if (mes1==\"abril\"):\n",
        "  mes1=abril\n",
        "if (mes1==\"mayo\"):\n",
        "  mes1=mayo\n",
        "if (mes1==\"junio\"):\n",
        "  mes1=junio\n",
        "if (mes2==\"enero\"):\n",
        "  mes2=enero\n",
        "if (mes2==\"febrero\"):\n",
        "  mes2=febrero\n",
        "if (mes2==\"marzo\"):\n",
        "  mes2=marzo\n",
        "if (mes2==\"abril\"):\n",
        "  mes2=abril\n",
        "if (mes2==\"mayo\"):\n",
        "  mes2=mayo\n",
        "if (mes2==\"junio\"):\n",
        "  mes2=junio\n",
        "\n",
        "print(f\"\\n-------------------La diferencia de visualizaciones entre los meses {reserva1} y {reserva2} es {abs(mes1-mes2)}----------------------------\")\n",
        "\n",
        "crecimientofb=datos.loc[1:1, [\"ENERO\",\"FEBRERO\",\"MARZO\",\"ABRIL\",\"MAYO\",\"JUNIO\"]]\n",
        "acumulador=0\n",
        "for i in range(6):\n",
        "  acumulador=acumulador+int(crecimientofb.iloc[0][i].replace(\",\",\"\"))\n",
        "\n",
        "promedio=acumulador/6\n",
        "print(f\"\\n FACEBOOK {crecimientofb}\")\n",
        "print(f\"--------------------El promedio de crecimiento de seguidores en Facebook de Enero a Junio es: {promedio}----------------------------\")\n",
        "\n",
        "crecimientotw=datos.loc[8:8, [\"ENERO\",\"FEBRERO\",\"MARZO\",\"ABRIL\",\"MAYO\",\"JUNIO\"]]\n",
        "acumulador=0\n",
        "\n",
        "for i in range(6):\n",
        "  acumulador=acumulador+int(crecimientotw.iloc[0][i].replace(\",\",\"\"))\n",
        "\n",
        "promedio=acumulador/6\n",
        "print(f\"\\n TWITTER {crecimientotw}\")\n",
        "print(f\"--------------------El promedio de crecimiento de seguidores en Twitter de Enero a Junio es: {promedio}----------------------------\")\n",
        "\n"
      ],
      "execution_count": null,
      "outputs": [
        {
          "output_type": "display_data",
          "data": {
            "text/plain": [
              "<IPython.core.display.HTML object>"
            ],
            "text/html": [
              "\n",
              "     <input type=\"file\" id=\"files-97c5ac21-81b0-4541-b261-8e5ffff4031b\" name=\"files[]\" multiple disabled\n",
              "        style=\"border:none\" />\n",
              "     <output id=\"result-97c5ac21-81b0-4541-b261-8e5ffff4031b\">\n",
              "      Upload widget is only available when the cell has been executed in the\n",
              "      current browser session. Please rerun this cell to enable.\n",
              "      </output>\n",
              "      <script src=\"/nbextensions/google.colab/files.js\"></script> "
            ]
          },
          "metadata": {}
        },
        {
          "output_type": "stream",
          "name": "stdout",
          "text": [
            "Saving presenciaredes.csv to presenciaredes (6).csv\n",
            "   RED SOCIAL                    CONCEPTO   AÑO   ENERO FEBRERO   MARZO  \\\n",
            "0    FACEBOOK                  SEGUIDORES  2020  152107  156957  160595   \n",
            "1    FACEBOOK    CRECIMIENTO (SEGUIDORES)  2020     660    4850    3638   \n",
            "2    FACEBOOK  PORCENTAJE DE CRECIMIENTO   2020   0.43%      3%      2%   \n",
            "3    FACEBOOK              PUBLICACIONES   2020      45      53      52   \n",
            "4    FACEBOOK  ME GUSTA EN PUBLICACIONES   2020    8771    9002   13556   \n",
            "5    FACEBOOK  PUBLICACIONES COMPARTIDAS   2020    2338    2680    2802   \n",
            "6    FACEBOOK      COMENTARIOS (USUARIOS)  2020     902     601     775   \n",
            "7     TWITTER      SEGUIDORES (FOLLOWERS)  2020   62404   63232   64149   \n",
            "8     TWITTER    CRECIMIENTO DE FOLLOWERS  2020     863     828     917   \n",
            "9     TWITTER   PORCENTAJE DE CRECIMIENTO  2020      1%      1%      1%   \n",
            "10    TWITTER              PUBLICACIONES   2020      77      84      90   \n",
            "11    TWITTER                     RETUITS  2020     563     601     748   \n",
            "12    TWITTER                    ME GUSTA  2020    1224    1225    1601   \n",
            "13    TWITTER                    IMPACTOS  2020  197275  220118  270310   \n",
            "14    YOUTUBE                      VIDEOS  2020       1       2       5   \n",
            "15    YOUTUBE             VISUALIZACIONES  2020   12226   15605   19602   \n",
            "16    YOUTUBE                 COMENTARIOS  2020       0       0       2   \n",
            "17    YOUTUBE                    ME GUSTA  2020       4      15      15   \n",
            "\n",
            "     ABRIL    MAYO   JUNIO JULIO AGOSTO SEPTIEMBRE OCTUBRE NOVIEMBRE  \\\n",
            "0   165180  170488  178413     0      0          0       0         0   \n",
            "1     4585    5308    7925     0      0          0       0         0   \n",
            "2       3%      3%      4%    0%     0%         0%      0%        0%   \n",
            "3      106      98      64     0      0          0       0         0   \n",
            "4    15022   38953   16487     0      0          0       0         0   \n",
            "5     4214    8415    4240     0      0          0       0         0   \n",
            "6     1100    2614    1268     0      0          0       0         0   \n",
            "7    65410   66355   67496     0      0          0       0         0   \n",
            "8     1261     945    1141     0      0          0       0         0   \n",
            "9       2%      1%      1%    0%     0%         0%      0%        0%   \n",
            "10     135     127      82     0      0          0       0         0   \n",
            "11     847    1136     780     0      0          0       0         0   \n",
            "12    1994    2667    2069     0      0          0       0         0   \n",
            "13  311931  409684  284147     0      0          0       0         0   \n",
            "14       4       4       4     0      0          0       3         5   \n",
            "15   19452   21805   17344     0      0          0       0         0   \n",
            "16       0       6       0     0      0          0       1         3   \n",
            "17       8      30      33     0      0          0       8        23   \n",
            "\n",
            "   DICIEMBRE  Unnamed: 15  \n",
            "0          0          NaN  \n",
            "1          0          NaN  \n",
            "2         0%          NaN  \n",
            "3          0          NaN  \n",
            "4          0          NaN  \n",
            "5          0          NaN  \n",
            "6          0          NaN  \n",
            "7          0          NaN  \n",
            "8          0          NaN  \n",
            "9         0%          NaN  \n",
            "10         0          NaN  \n",
            "11         0          NaN  \n",
            "12         0          NaN  \n",
            "13         0          NaN  \n",
            "14         0          NaN  \n",
            "15         0          NaN  \n",
            "16         0          NaN  \n",
            "17         0          NaN  \n",
            "\n",
            "-------------------El cambio en los followers de Twiter de Enero a Junio fue +5092------------\n",
            "\n",
            "\n",
            "--------------------Elija los meses para calcular la diferencia de visualizaciones de Youtube------------------------------\n",
            " \n",
            "\n",
            "ESCRIBE EL PRIMER MES CON LETRA, elija: : enero, febrero, marzo, abril, mayo, junio:   ---> enero\n",
            "ESCRIBE EL SEGUNDO MES CON LETRA, elija: : enero, febrero, marzo, abril, mayo, junio:    ---> marzo\n",
            "\n",
            "-------------------La diferencia de visualizaciones entre los meses enero y marzo es 7376----------------------------\n",
            "\n",
            " FACEBOOK   ENERO FEBRERO MARZO ABRIL  MAYO JUNIO\n",
            "1   660    4850  3638  4585  5308  7925\n",
            "--------------------El promedio de crecimiento de seguidores en Facebook de Enero a Junio es: 4494.333333333333----------------------------\n",
            "\n",
            " TWITTER   ENERO FEBRERO MARZO ABRIL MAYO JUNIO\n",
            "8   863     828   917  1261  945  1141\n",
            "--------------------El promedio de crecimiento de seguidores en Twitter de Enero a Junio es: 992.5----------------------------\n"
          ]
        }
      ]
    }
  ]
}