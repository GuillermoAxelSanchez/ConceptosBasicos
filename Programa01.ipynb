{
  "nbformat": 4,
  "nbformat_minor": 0,
  "metadata": {
    "colab": {
      "name": "Programa01.ipynb",
      "provenance": [],
      "authorship_tag": "ABX9TyNXl1W9m0841fjYAK2e1XNx",
      "include_colab_link": true
    },
    "kernelspec": {
      "name": "python3",
      "display_name": "Python 3"
    },
    "language_info": {
      "name": "python"
    }
  },
  "cells": [
    {
      "cell_type": "markdown",
      "metadata": {
        "id": "view-in-github",
        "colab_type": "text"
      },
      "source": [
        "<a href=\"https://colab.research.google.com/github/GuillermoAxelSanchez/ConceptosBasicos/blob/master/Programa01.ipynb\" target=\"_parent\"><img src=\"https://colab.research.google.com/assets/colab-badge.svg\" alt=\"Open In Colab\"/></a>"
      ]
    },
    {
      "cell_type": "code",
      "metadata": {
        "colab": {
          "base_uri": "https://localhost:8080/"
        },
        "id": "8DCuuinK-rt6",
        "outputId": "8804a314-1a19-4770-a40a-ec0ab342a373"
      },
      "source": [
        "#este programa convierte los numeros de telefono dados agregando la extensión del país +52 y borra todos los espacios vacíos\n",
        "\n",
        "numero_sin_convertir = input(\"digita el numero a convertir: \")\n",
        "numero_convertido = \"\"\n",
        "\n",
        "def convertir (numero_sin_convertir):\n",
        "  \n",
        "  numero_convertido=\"+52\"+numero_sin_convertir.replace(\" \",\"\")\n",
        "  \n",
        "  print (numero_convertido)\n",
        "\n",
        "pregunta=input(\"Desea convertir el numero?  si    no\\n\")\n",
        "if pregunta==\"si\":\n",
        "  convertir(numero_sin_convertir)\n",
        "  numero_sin_convertir\n",
        "else: \n",
        "   print(\"bueno jaja, adiós\")"
      ],
      "execution_count": 41,
      "outputs": [
        {
          "output_type": "stream",
          "name": "stdout",
          "text": [
            "digita el numero a convertir: 246 192 2435\n",
            "Desea convertir el numero?  si    no\n",
            "si\n",
            "+522461922435\n"
          ]
        }
      ]
    }
  ]
}