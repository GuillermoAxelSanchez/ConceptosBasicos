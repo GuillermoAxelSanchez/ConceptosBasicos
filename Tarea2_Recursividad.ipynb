{
  "nbformat": 4,
  "nbformat_minor": 0,
  "metadata": {
    "colab": {
      "name": "Tarea2-Recursividad.ipynb",
      "provenance": [],
      "authorship_tag": "ABX9TyMlDttTd1PkvQYivIWm5J6i",
      "include_colab_link": true
    },
    "kernelspec": {
      "name": "python3",
      "display_name": "Python 3"
    },
    "language_info": {
      "name": "python"
    }
  },
  "cells": [
    {
      "cell_type": "markdown",
      "metadata": {
        "id": "view-in-github",
        "colab_type": "text"
      },
      "source": [
        "<a href=\"https://colab.research.google.com/github/GuillermoAxelSanchez/ConceptosBasicos/blob/master/Tarea2_Recursividad.ipynb\" target=\"_parent\"><img src=\"https://colab.research.google.com/assets/colab-badge.svg\" alt=\"Open In Colab\"/></a>"
      ]
    },
    {
      "cell_type": "code",
      "metadata": {
        "colab": {
          "base_uri": "https://localhost:8080/"
        },
        "id": "Fbs_s1EeRvXa",
        "outputId": "fcb08a3d-a612-49cc-c870-11ebfd118159"
      },
      "source": [
        "\"\"\"Crear una lista de enteros en Python y realizar la suma con recursividad, el\n",
        "caso base es cuando la lista esté vacía.\"\"\"\n",
        "\n",
        "def sumar(arreglo,suma):\n",
        "  suma=suma+arreglo[-1]\n",
        "  arreglo.pop(-1)\n",
        "  if len(arreglo)!=0:\n",
        "    sumar(arreglo,suma)\n",
        "  else:\n",
        "    print(f\"La suma de los elementos es: {suma}\")\n",
        "    \n",
        "n=int(input(\"Digite el numero de elementos que desea en la lista: \"))\n",
        "arreglo=[]\n",
        "suma=0\n",
        "for i in range(n):\n",
        "  arreglo.append(int(input(f\"Digite el numero para {i+1} \")))\n",
        "sumar(arreglo,suma)"
      ],
      "execution_count": 10,
      "outputs": [
        {
          "output_type": "stream",
          "name": "stdout",
          "text": [
            "Digite el numero de elementos que desea en la lista: 5\n",
            "Digite el numero para 1 5\n",
            "Digite el numero para 2 4\n",
            "Digite el numero para 3 3\n",
            "Digite el numero para 4 2\n",
            "Digite el numero para 5 1\n",
            "La suma de los elementos es: 15\n"
          ]
        }
      ]
    },
    {
      "cell_type": "code",
      "metadata": {
        "colab": {
          "base_uri": "https://localhost:8080/"
        },
        "id": "w12C6A3OWR9Z",
        "outputId": "242b4008-1cfb-44ff-b35e-edc94e8e48a5"
      },
      "source": [
        "\"\"\"\n",
        "Hacer un contador regresivo con recursión y cuando termine ( conteo llega a\n",
        "cero) que imprima la palabra BOOMMMMM !!!.\n",
        "\"\"\"\n",
        "import time\n",
        "\n",
        "def temporizadorBomba(x):\n",
        "  if x>=0:\n",
        "    print(x)\n",
        "    time.sleep(.7)\n",
        "    temporizadorBomba(x-1)\n",
        "  else:\n",
        "    print(\"BOOOM!!!\")\n",
        "\n",
        "x=5\n",
        "temporizadorBomba(x)"
      ],
      "execution_count": 17,
      "outputs": [
        {
          "output_type": "stream",
          "name": "stdout",
          "text": [
            "5\n",
            "4\n",
            "3\n",
            "2\n",
            "1\n",
            "0\n",
            "BOOOM!!!\n"
          ]
        }
      ]
    },
    {
      "cell_type": "code",
      "metadata": {
        "colab": {
          "base_uri": "https://localhost:8080/"
        },
        "id": "gTTJr1-XXuzh",
        "outputId": "659e7416-48d4-478d-91d4-506a379c9206"
      },
      "source": [
        "\"\"\"\n",
        "Eliminar de una lista o arreglo, el elemento que está en la posición media. Si\n",
        "la dimensión del arreglo es par, sacar el elemento previo al punto medio.\n",
        "\"\"\"\n",
        "import time\n",
        "def puntoMedio(arreglo):\n",
        "  x=int((len(arreglo)/2)-0.1)\n",
        "  pregunta=input(f\"\\nDesea eliminar el punto medio, longitud : {len(arreglo)}  (si | no): \")\n",
        "  if pregunta==\"si\" and len(arreglo)!=1:\n",
        "    arreglo.pop(x)\n",
        "    print(f\"La nueva lista es: {arreglo}\")\n",
        "    time.sleep(1)\n",
        "    puntoMedio(arreglo)\n",
        "    \n",
        "n=int(input(\"Digite el numero de elementos que desea en la lista: \"))\n",
        "arreglo=[]\n",
        "for i in range(n):\n",
        "  arreglo.append(input(f\"Escriba el elemento para {i+1} \"))\n",
        "\n",
        "puntoMedio(arreglo)"
      ],
      "execution_count": 28,
      "outputs": [
        {
          "name": "stdout",
          "output_type": "stream",
          "text": [
            "Digite el numero de elementos que desea en la lista: 5\n",
            "Escriba el elemento para 1 4\n",
            "Escriba el elemento para 2 3\n",
            "Escriba el elemento para 3 2\n",
            "Escriba el elemento para 4 1\n",
            "Escriba el elemento para 5 asdgasd\n",
            "\n",
            "Desea eliminar el punto medio, longitud : 5  (si | no): si\n",
            "La nueva lista es: ['4', '3', '1', 'asdgasd']\n",
            "\n",
            "Desea eliminar el punto medio, longitud : 4  (si | no): si\n",
            "La nueva lista es: ['4', '1', 'asdgasd']\n",
            "\n",
            "Desea eliminar el punto medio, longitud : 3  (si | no): si\n",
            "La nueva lista es: ['4', 'asdgasd']\n",
            "\n",
            "Desea eliminar el punto medio, longitud : 2  (si | no): no\n"
          ]
        }
      ]
    }
  ]
}