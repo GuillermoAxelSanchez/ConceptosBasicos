{
  "nbformat": 4,
  "nbformat_minor": 0,
  "metadata": {
    "colab": {
      "name": "Tarea01-Archivos-CSV.ipynb",
      "provenance": [],
      "authorship_tag": "ABX9TyMyY1pQxJ10hy1fyg5L3A+j",
      "include_colab_link": true
    },
    "kernelspec": {
      "name": "python3",
      "display_name": "Python 3"
    },
    "language_info": {
      "name": "python"
    }
  },
  "cells": [
    {
      "cell_type": "markdown",
      "metadata": {
        "id": "view-in-github",
        "colab_type": "text"
      },
      "source": [
        "<a href=\"https://colab.research.google.com/github/GuillermoAxelSanchez/ConceptosBasicos/blob/master/Tarea01_Archivos_CSV.ipynb\" target=\"_parent\"><img src=\"https://colab.research.google.com/assets/colab-badge.svg\" alt=\"Open In Colab\"/></a>"
      ]
    },
    {
      "cell_type": "code",
      "metadata": {
        "colab": {
          "base_uri": "https://localhost:8080/"
        },
        "id": "61j8iBV8sEO-",
        "outputId": "e678427f-794d-4255-cbf8-ed5f565a0654"
      },
      "source": [
        "import pandas as pan\n",
        "import numpy as np\n",
        "\n",
        "from google.colab import files\n",
        "uploaded = files.upload()\n",
        "\n",
        "datos = pan.read_csv('presenciaredes.csv', header=0)\n",
        "print(datos)\n",
        "followersJunio=int(datos.iloc[7][8].replace(\",\",\"\"))\n",
        "followersEnero=int(datos.iloc[7][3].replace(\",\",\"\"))\n",
        "\n",
        "print(f\"\\n-------------------El cambio en los followers de Twiter de Enero a Junio fue +{followersJunio-followersEnero}------------\\n\")\n",
        "\n",
        "print(\"\\n--------------------Elija los meses para calcular la diferencia de visualizaciones de youtube------------------------------\\n \")\n",
        "mes1=input(\"\\nESCRIBE EL PRIMER MES CON LETRA, elija: : enero, febrero, marzo, abril, mayo, junio:   --->\")\n",
        "reserva1=mes1\n",
        "mes2=input(\"ESCRIBE EL SEGUNDO MES CON LETRA, elija: : enero, febrero, marzo, abril, mayo, junio:    ---> \")\n",
        "reserva2=mes2\n",
        "enero=int(datos.iloc[15][3].replace(\",\",\"\"))\n",
        "febrero=int(datos.iloc[15][4].replace(\",\",\"\"))\n",
        "marzo=int(datos.iloc[15][5].replace(\",\",\"\"))\n",
        "abril=int(datos.iloc[15][6].replace(\",\",\"\"))\n",
        "mayo=int(datos.iloc[15][7].replace(\",\",\"\"))\n",
        "junio=int(datos.iloc[15][8].replace(\",\",\"\"))\n",
        "\n",
        "if (mes1==\"enero\"):\n",
        "  mes1=enero\n",
        "if (mes1==\"febrero\"):\n",
        "  mes1=febrero\n",
        "if (mes1==\"marzo\"):\n",
        "  mes1=marzo\n",
        "if (mes1==\"abril\"):\n",
        "  mes1=abril\n",
        "if (mes1==\"mayo\"):\n",
        "  mes1=mayo\n",
        "if (mes1==\"junio\"):\n",
        "  mes1=junio\n",
        "if (mes2==\"enero\"):\n",
        "  mes2=enero\n",
        "if (mes2==\"febrero\"):\n",
        "  mes2=febrero\n",
        "if (mes2==\"marzo\"):\n",
        "  mes2=marzo\n",
        "if (mes2==\"abril\"):\n",
        "  mes2=abril\n",
        "if (mes2==\"mayo\"):\n",
        "  mes2=mayo\n",
        "if (mes2==\"junio\"):\n",
        "  mes2=junio\n",
        "\n",
        "print(f\"\\n-------------------La diferencia de visualizaciones entre los meses {reserva1} y {reserva2} es {abs(mes1-mes2)}----------------------------\")\n",
        "\n",
        "crecimientofb=datos.loc[1:1, [\"ENERO\",\"FEBRERO\",\"MARZO\",\"ABRIL\",\"MAYO\",\"JUNIO\"]]\n",
        "acumulador=0\n",
        "\n",
        "for i in range(6):\n",
        "  acumulador=acumulador+int(crecimientofb.iloc[0][i].replace(\",\",\"\"))\n",
        "\n",
        "promedio=acumulador/6\n",
        "print(f\"\\n FACEBOOK {crecimientofb}\")\n",
        "print(f\"--------------------El promedio de crecimiento de seguidores en Facebook de Enero a Junio es: {promedio}----------------------------\")\n",
        "\n",
        "crecimientotw=datos.loc[8:8, [\"ENERO\",\"FEBRERO\",\"MARZO\",\"ABRIL\",\"MAYO\",\"JUNIO\"]]\n",
        "acumulador=0\n",
        "\n",
        "for i in range(6):\n",
        "  acumulador=acumulador+int(crecimientotw.iloc[0][i].replace(\",\",\"\"))\n",
        "\n",
        "promedio=acumulador/6\n",
        "print(f\"\\n TWITTER {crecimientotw}\")\n",
        "print(f\"--------------------El promedio de crecimiento de seguidores en Twitter de Enero a Junio es: {promedio}----------------------------\")\n",
        "\n"
      ],
      "execution_count": 123,
      "outputs": [
        {
          "output_type": "stream",
          "name": "stdout",
          "text": [
            "   RED SOCIAL                    CONCEPTO   AÑO  ... OCTUBRE NOVIEMBRE DICIEMBRE\n",
            "0    FACEBOOK                  SEGUIDORES  2020  ...       0         0         0\n",
            "1    FACEBOOK    CRECIMIENTO (seguidores)  2020  ...       0         0         0\n",
            "2    FACEBOOK  PORCENTAJE DE CRECIMIENTO   2020  ...   0.00%     0.00%        0%\n",
            "3    FACEBOOK              PUBLICACIONES   2020  ...       0         0         0\n",
            "4    FACEBOOK  ME GUSTA EN PUBLICACIONES   2020  ...       0         0         0\n",
            "5    FACEBOOK  PUBLICACIONES COMPARTIDAS   2020  ...       0         0         0\n",
            "6    FACEBOOK      COMENTARIOS (USUARIOS)  2020  ...       0         0         0\n",
            "7     TWITTER      SEGUIDORES (FOLLOWERS)  2020  ...       0         0         0\n",
            "8     TWITTER    CRECIMIENTO DE FOLLOWERS  2020  ...       0         0         0\n",
            "9     TWITTER   PORCENTAJE DE CRECIMIENTO  2020  ...   0.00%        0%        0%\n",
            "10    TWITTER              PUBLICACIONES   2020  ...       0         0         0\n",
            "11    TWITTER                     RETUITS  2020  ...       0         0         0\n",
            "12    TWITTER                    ME GUSTA  2020  ...       0         0         0\n",
            "13    TWITTER                    IMPACTOS  2020  ...       0         0         0\n",
            "14    YOUTUBE                      VIDEOS  2020  ...       3         5         0\n",
            "15    YOUTUBE             VISUALIZACIONES  2020  ...       0         0         0\n",
            "16    YOUTUBE                 COMENTARIOS  2020  ...       1         3         0\n",
            "17    YOUTUBE                    ME GUSTA  2020  ...       8        23         0\n",
            "\n",
            "[18 rows x 15 columns]\n",
            "\n",
            "-------------------El cambio en los followers de Twiter de Enero a Junio fue +5092------------\n",
            "\n",
            "\n",
            "--------------------Elija los meses para calcular la diferencia de visualizaciones de youtube------------------------------\n",
            " \n",
            "\n",
            "ESCRIBE EL PRIMER MES CON LETRA, elija: : enero, febrero, marzo, abril, mayo, junio:   --->enero\n",
            "ESCRIBE EL SEGUNDO MES CON LETRA, elija: : enero, febrero, marzo, abril, mayo, junio:    ---> junio\n",
            "\n",
            "-------------------La diferencia de visualizaciones entre los meses enero y junio es 5118----------------------------\n",
            "\n",
            " FACEBOOK   ENERO FEBRERO  MARZO  ABRIL   MAYO  JUNIO\n",
            "1   660   4,850  3,638  4,585  5,308  7,925\n",
            "--------------------El promedio de crecimiento de seguidores en Facebook de Enero a Junio es: 4494.333333333333----------------------------\n",
            "\n",
            " TWITTER   ENERO FEBRERO MARZO  ABRIL MAYO  JUNIO\n",
            "8   863     828   917  1,261  945  1,141\n",
            "--------------------El promedio de crecimiento de seguidores en Twitter de Enero a Junio es: 992.5----------------------------\n"
          ]
        }
      ]
    }
  ]
}