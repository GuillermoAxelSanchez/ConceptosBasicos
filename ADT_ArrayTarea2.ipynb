{
  "nbformat": 4,
  "nbformat_minor": 0,
  "metadata": {
    "colab": {
      "name": "ADT ArrayTarea2.ipynb",
      "provenance": [],
      "authorship_tag": "ABX9TyO5MSBQfuDJb/1fUooET1tB",
      "include_colab_link": true
    },
    "kernelspec": {
      "name": "python3",
      "display_name": "Python 3"
    },
    "language_info": {
      "name": "python"
    }
  },
  "cells": [
    {
      "cell_type": "markdown",
      "metadata": {
        "id": "view-in-github",
        "colab_type": "text"
      },
      "source": [
        "<a href=\"https://colab.research.google.com/github/GuillermoAxelSanchez/ConceptosBasicos/blob/master/ADT_ArrayTarea2.ipynb\" target=\"_parent\"><img src=\"https://colab.research.google.com/assets/colab-badge.svg\" alt=\"Open In Colab\"/></a>"
      ]
    },
    {
      "cell_type": "code",
      "metadata": {
        "id": "g2J90PZAH2ex"
      },
      "source": [
        "\"\"\"\n",
        "ADT Array\n",
        "\"\"\"\n",
        "\n",
        "\n",
        "\n",
        "\n",
        "\n",
        "class  Array():\n",
        "  def __init__(self , tamanio):\n",
        "    self.__tamanio = tamanio\n",
        "    self.__data = [ 0 for x in range(self.__tamanio)]        #generator\n",
        "\n",
        "  def get_item(self , index):\n",
        "    return self.__data[index]\n",
        "\n",
        "  def to_string(self):\n",
        "    print(self.__data)\n",
        "\n",
        "  def set_item( self ,dato, index):\n",
        "    self.__data[index]=dato\n",
        "\n",
        "  def get_lenght(self):\n",
        "    return len(self.__data)\n",
        "\n",
        "  def clear(self, dato):\n",
        "    for i in range(self.__tamanio):\n",
        "      self.__data[i]=dato\n",
        "    "
      ],
      "execution_count": 64,
      "outputs": []
    },
    {
      "cell_type": "code",
      "metadata": {
        "colab": {
          "base_uri": "https://localhost:8080/"
        },
        "id": "6OX3z08JL8py",
        "outputId": "5b845045-6edd-4b8b-ba26-ff15894c5752"
      },
      "source": [
        "ejemplo = Array(5)\n",
        "ejemplo.to_string()\n",
        "ejemplo.get_item(0)\n",
        "ejemplo.set_item( \"hola\" , 2)\n",
        "ejemplo.to_string()\n",
        "ejemplo.get_lenght()\n",
        "ejemplo.clear(5)\n",
        "ejemplo.to_string()"
      ],
      "execution_count": 63,
      "outputs": [
        {
          "output_type": "stream",
          "name": "stdout",
          "text": [
            "[0, 0, 0, 0, 0]\n",
            "[0, 0, 'hola', 0, 0]\n",
            "[5, 5, 5, 5, 5]\n"
          ]
        }
      ]
    }
  ]
}